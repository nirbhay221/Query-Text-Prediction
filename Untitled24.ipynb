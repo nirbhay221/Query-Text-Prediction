{
  "nbformat": 4,
  "nbformat_minor": 0,
  "metadata": {
    "colab": {
      "name": "Untitled24.ipynb",
      "provenance": [],
      "collapsed_sections": []
    },
    "kernelspec": {
      "name": "python3",
      "display_name": "Python 3"
    }
  },
  "cells": [
    {
      "cell_type": "code",
      "metadata": {
        "id": "MM5kfmiY3k8R"
      },
      "source": [
        "import tensorflow as tf \n",
        "import csv\n",
        "import json\n",
        "import numpy as np\n",
        "import tensorflow as tf\n",
        "from tensorflow.keras.preprocessing.text import Tokenizer \n",
        "from tensorflow.keras.preprocessing.sequence import pad_sequences\n"
      ],
      "execution_count": null,
      "outputs": []
    },
    {
      "cell_type": "code",
      "metadata": {
        "id": "Oqo2_S75AyLY"
      },
      "source": [
        "from tensorflow.keras.utils import to_categorical\n",
        "from tensorflow.keras import regularizers"
      ],
      "execution_count": null,
      "outputs": []
    },
    {
      "cell_type": "code",
      "metadata": {
        "id": "yX5YGiskA_Qz"
      },
      "source": [
        "\n",
        "embedding_dim = 100\n",
        "max_length = 16\n",
        "trunc_type='post'\n",
        "padding_type='post'\n",
        "oov_tok = \"<OOV>\""
      ],
      "execution_count": null,
      "outputs": []
    },
    {
      "cell_type": "code",
      "metadata": {
        "id": "0mknSNrmBGML"
      },
      "source": [
        "training_size =160000\n",
        "test_portion = 0.1\n",
        "corpus=[]"
      ],
      "execution_count": null,
      "outputs": []
    },
    {
      "cell_type": "code",
      "metadata": {
        "id": "mTM5_zFuBRI4",
        "outputId": "e84dfd9e-88e4-4686-8415-c9376fba1629",
        "colab": {
          "base_uri": "https://localhost:8080/",
          "height": 210
        }
      },
      "source": [
        "# You can do that yourself with:\n",
        "# iconv -f LATIN1 -t UTF8 training.1600000.processed.noemoticon.csv -o training_cleaned.csv\n",
        "# I then hosted it on my site to make it easier to use in this notebook\n",
        "\n",
        "!wget --no-check-certificate \\\n",
        "    https://storage.googleapis.com/laurencemoroney-blog.appspot.com/training_cleaned.csv \\\n",
        "    -O /tmp/training_cleaned.csv"
      ],
      "execution_count": null,
      "outputs": [
        {
          "output_type": "stream",
          "text": [
            "--2020-10-21 16:58:30--  https://storage.googleapis.com/laurencemoroney-blog.appspot.com/training_cleaned.csv\n",
            "Resolving storage.googleapis.com (storage.googleapis.com)... 172.217.203.128, 142.250.98.128, 142.250.97.128, ...\n",
            "Connecting to storage.googleapis.com (storage.googleapis.com)|172.217.203.128|:443... connected.\n",
            "HTTP request sent, awaiting response... 200 OK\n",
            "Length: 238942690 (228M) [application/octet-stream]\n",
            "Saving to: ‘/tmp/training_cleaned.csv’\n",
            "\n",
            "/tmp/training_clean 100%[===================>] 227.87M   129MB/s    in 1.8s    \n",
            "\n",
            "2020-10-21 16:58:32 (129 MB/s) - ‘/tmp/training_cleaned.csv’ saved [238942690/238942690]\n",
            "\n"
          ],
          "name": "stdout"
        }
      ]
    },
    {
      "cell_type": "code",
      "metadata": {
        "id": "zoKQRmz7BVtM"
      },
      "source": [
        "import pandas as pd\n",
        "df = pd.read_csv('/tmp/training_cleaned.csv')"
      ],
      "execution_count": null,
      "outputs": []
    },
    {
      "cell_type": "code",
      "metadata": {
        "id": "JSi_T7U6Bgyc",
        "outputId": "b329da5f-1fac-455c-ed29-039afcd903cd",
        "colab": {
          "base_uri": "https://localhost:8080/",
          "height": 242
        }
      },
      "source": [
        "df.head(6)"
      ],
      "execution_count": null,
      "outputs": [
        {
          "output_type": "execute_result",
          "data": {
            "text/html": [
              "<div>\n",
              "<style scoped>\n",
              "    .dataframe tbody tr th:only-of-type {\n",
              "        vertical-align: middle;\n",
              "    }\n",
              "\n",
              "    .dataframe tbody tr th {\n",
              "        vertical-align: top;\n",
              "    }\n",
              "\n",
              "    .dataframe thead th {\n",
              "        text-align: right;\n",
              "    }\n",
              "</style>\n",
              "<table border=\"1\" class=\"dataframe\">\n",
              "  <thead>\n",
              "    <tr style=\"text-align: right;\">\n",
              "      <th></th>\n",
              "      <th>0</th>\n",
              "      <th>1467810369</th>\n",
              "      <th>Mon Apr 06 22:19:45 PDT 2009</th>\n",
              "      <th>NO_QUERY</th>\n",
              "      <th>_TheSpecialOne_</th>\n",
              "      <th>@switchfoot http://twitpic.com/2y1zl - Awww, that's a bummer.  You shoulda got David Carr of Third Day to do it. ;D</th>\n",
              "    </tr>\n",
              "  </thead>\n",
              "  <tbody>\n",
              "    <tr>\n",
              "      <th>0</th>\n",
              "      <td>0</td>\n",
              "      <td>1467810672</td>\n",
              "      <td>Mon Apr 06 22:19:49 PDT 2009</td>\n",
              "      <td>NO_QUERY</td>\n",
              "      <td>scotthamilton</td>\n",
              "      <td>is upset that he can't update his Facebook by ...</td>\n",
              "    </tr>\n",
              "    <tr>\n",
              "      <th>1</th>\n",
              "      <td>0</td>\n",
              "      <td>1467810917</td>\n",
              "      <td>Mon Apr 06 22:19:53 PDT 2009</td>\n",
              "      <td>NO_QUERY</td>\n",
              "      <td>mattycus</td>\n",
              "      <td>@Kenichan I dived many times for the ball. Man...</td>\n",
              "    </tr>\n",
              "    <tr>\n",
              "      <th>2</th>\n",
              "      <td>0</td>\n",
              "      <td>1467811184</td>\n",
              "      <td>Mon Apr 06 22:19:57 PDT 2009</td>\n",
              "      <td>NO_QUERY</td>\n",
              "      <td>ElleCTF</td>\n",
              "      <td>my whole body feels itchy and like its on fire</td>\n",
              "    </tr>\n",
              "    <tr>\n",
              "      <th>3</th>\n",
              "      <td>0</td>\n",
              "      <td>1467811193</td>\n",
              "      <td>Mon Apr 06 22:19:57 PDT 2009</td>\n",
              "      <td>NO_QUERY</td>\n",
              "      <td>Karoli</td>\n",
              "      <td>@nationwideclass no, it's not behaving at all....</td>\n",
              "    </tr>\n",
              "    <tr>\n",
              "      <th>4</th>\n",
              "      <td>0</td>\n",
              "      <td>1467811372</td>\n",
              "      <td>Mon Apr 06 22:20:00 PDT 2009</td>\n",
              "      <td>NO_QUERY</td>\n",
              "      <td>joy_wolf</td>\n",
              "      <td>@Kwesidei not the whole crew</td>\n",
              "    </tr>\n",
              "    <tr>\n",
              "      <th>5</th>\n",
              "      <td>0</td>\n",
              "      <td>1467811592</td>\n",
              "      <td>Mon Apr 06 22:20:03 PDT 2009</td>\n",
              "      <td>NO_QUERY</td>\n",
              "      <td>mybirch</td>\n",
              "      <td>Need a hug</td>\n",
              "    </tr>\n",
              "  </tbody>\n",
              "</table>\n",
              "</div>"
            ],
            "text/plain": [
              "   0  ...  @switchfoot http://twitpic.com/2y1zl - Awww, that's a bummer.  You shoulda got David Carr of Third Day to do it. ;D\n",
              "0  0  ...  is upset that he can't update his Facebook by ...                                                                  \n",
              "1  0  ...  @Kenichan I dived many times for the ball. Man...                                                                  \n",
              "2  0  ...    my whole body feels itchy and like its on fire                                                                   \n",
              "3  0  ...  @nationwideclass no, it's not behaving at all....                                                                  \n",
              "4  0  ...                      @Kwesidei not the whole crew                                                                   \n",
              "5  0  ...                                        Need a hug                                                                   \n",
              "\n",
              "[6 rows x 6 columns]"
            ]
          },
          "metadata": {
            "tags": []
          },
          "execution_count": 7
        }
      ]
    },
    {
      "cell_type": "code",
      "metadata": {
        "id": "M5J1UV1FBljk"
      },
      "source": [
        "\n",
        "\n",
        "num_sentences = 0\n",
        "\n",
        "with open(\"/tmp/training_cleaned.csv\") as csvfile:\n",
        "    reader = csv.reader(csvfile, delimiter=',')\n",
        "    for row in reader:\n",
        "        list_item=[]\n",
        "        list_item.append(row[5])\n",
        "        this_label=row[0]\n",
        "        if this_label=='0':\n",
        "            list_item.append(0)\n",
        "        else:\n",
        "            list_item.append(1)\n",
        "        num_sentences = num_sentences + 1\n",
        "        corpus.append(list_item)\n"
      ],
      "execution_count": null,
      "outputs": []
    },
    {
      "cell_type": "code",
      "metadata": {
        "id": "yVJgEwrEDEKl",
        "outputId": "3069c634-2d11-4214-95fa-17b6a5aa62c4",
        "colab": {
          "base_uri": "https://localhost:8080/",
          "height": 35
        }
      },
      "source": [
        "this_label"
      ],
      "execution_count": null,
      "outputs": [
        {
          "output_type": "execute_result",
          "data": {
            "application/vnd.google.colaboratory.intrinsic+json": {
              "type": "string"
            },
            "text/plain": [
              "'4'"
            ]
          },
          "metadata": {
            "tags": []
          },
          "execution_count": 9
        }
      ]
    },
    {
      "cell_type": "code",
      "metadata": {
        "id": "B2-Fw3YnEFfG",
        "outputId": "9563f976-db72-4cf9-b7e7-0b9d1aa1ee3b",
        "colab": {
          "base_uri": "https://localhost:8080/",
          "height": 70
        }
      },
      "source": [
        "print(num_sentences)\n",
        "print(len(corpus))\n",
        "print(corpus[1])"
      ],
      "execution_count": null,
      "outputs": [
        {
          "output_type": "stream",
          "text": [
            "1600000\n",
            "1600000\n",
            "[\"is upset that he can't update his Facebook by texting it... and might cry as a result  School today also. Blah!\", 0]\n"
          ],
          "name": "stdout"
        }
      ]
    },
    {
      "cell_type": "code",
      "metadata": {
        "id": "tVWavoL-EetN"
      },
      "source": [
        "import random\n",
        "sentences = []\n",
        "labels = []\n",
        "random.shuffle(corpus)\n",
        "for x in range(training_size):\n",
        "  sentences.append(corpus[x][0])\n",
        "  labels.append(corpus[x][1])"
      ],
      "execution_count": null,
      "outputs": []
    },
    {
      "cell_type": "code",
      "metadata": {
        "id": "-cIi7rK6KEUS"
      },
      "source": [
        "tokenizer =Tokenizer()\n",
        "tokenizer.fit_on_texts(sentences)\n",
        "word_index= tokenizer.word_index\n",
        "vocab_size = len(word_index)\n",
        "seq= tokenizer.texts_to_sequences(sentences)\n",
        "pad = pad_sequences(seq,maxlen = max_length,truncating =trunc_type,padding = padding_type)"
      ],
      "execution_count": null,
      "outputs": []
    },
    {
      "cell_type": "code",
      "metadata": {
        "id": "X1pGVmpyNQqS"
      },
      "source": [
        "split = int(test_portion*training_size)\n",
        "training_pad = pad[split:training_size]\n",
        "testing_pad = pad[0:split]\n",
        "test_labels = labels[0:split]\n",
        "train_labels = labels[split:training_size]\n"
      ],
      "execution_count": null,
      "outputs": []
    },
    {
      "cell_type": "code",
      "metadata": {
        "id": "gGq1B-0CNtQX",
        "outputId": "0d815101-45d8-48b0-a637-5ec825d10c16",
        "colab": {
          "base_uri": "https://localhost:8080/",
          "height": 52
        }
      },
      "source": [
        "print(vocab_size)\n",
        "print(word_index['i'])"
      ],
      "execution_count": null,
      "outputs": [
        {
          "output_type": "stream",
          "text": [
            "138491\n",
            "1\n"
          ],
          "name": "stdout"
        }
      ]
    },
    {
      "cell_type": "code",
      "metadata": {
        "id": "TuWR6wqxNy9m",
        "outputId": "934aef18-66c3-4a56-d52b-51cd1a69333c",
        "colab": {
          "base_uri": "https://localhost:8080/",
          "height": 210
        }
      },
      "source": [
        "!wget --no-check-certificate \\\n",
        "    https://storage.googleapis.com/laurencemoroney-blog.appspot.com/glove.6B.100d.txt \\\n",
        "    -O /tmp/glove.6B.100d.txt"
      ],
      "execution_count": null,
      "outputs": [
        {
          "output_type": "stream",
          "text": [
            "--2020-10-21 17:36:00--  https://storage.googleapis.com/laurencemoroney-blog.appspot.com/glove.6B.100d.txt\n",
            "Resolving storage.googleapis.com (storage.googleapis.com)... 173.194.215.128, 173.194.217.128, 172.217.204.128, ...\n",
            "Connecting to storage.googleapis.com (storage.googleapis.com)|173.194.215.128|:443... connected.\n",
            "HTTP request sent, awaiting response... 200 OK\n",
            "Length: 347116733 (331M) [text/plain]\n",
            "Saving to: ‘/tmp/glove.6B.100d.txt’\n",
            "\n",
            "/tmp/glove.6B.100d. 100%[===================>] 331.04M   200MB/s    in 1.7s    \n",
            "\n",
            "2020-10-21 17:36:02 (200 MB/s) - ‘/tmp/glove.6B.100d.txt’ saved [347116733/347116733]\n",
            "\n"
          ],
          "name": "stdout"
        }
      ]
    },
    {
      "cell_type": "code",
      "metadata": {
        "id": "8xauH47yN5wD"
      },
      "source": [
        "embeddings_index = {};\n",
        "with open('/tmp/glove.6B.100d.txt') as f:\n",
        "  for line in f:\n",
        "    values = line.split();\n",
        "    word = values[0];\n",
        "    coefs = np.asarray(values[1:],dtype='float32');\n",
        "    embeddings_index[word] = coefs;\n",
        "embeddings_matrix = np.zeros((vocab_size+1,embedding_dim));\n",
        "for word,i in word_index.items():\n",
        "  embedding_vector= embeddings_index.get(word);\n",
        "  if embedding_vector is not None:\n",
        "    embeddings_matrix[i]= embedding_vector;"
      ],
      "execution_count": null,
      "outputs": []
    },
    {
      "cell_type": "code",
      "metadata": {
        "id": "UMGEvuJHPUNp",
        "outputId": "919e1531-a4bf-4051-8b5d-61d063ea1f52",
        "colab": {
          "base_uri": "https://localhost:8080/",
          "height": 34
        }
      },
      "source": [
        "print(len(embeddings_matrix))"
      ],
      "execution_count": null,
      "outputs": [
        {
          "output_type": "stream",
          "text": [
            "138492\n"
          ],
          "name": "stdout"
        }
      ]
    },
    {
      "cell_type": "code",
      "metadata": {
        "id": "9iWKQ2P9P6fY"
      },
      "source": [
        "model = tf.keras.Sequential([\n",
        "                             tf.keras.layers.Embedding(vocab_size+1,embedding_dim,input_length = max_length,weights=[embeddings_matrix],trainable = False),\n",
        "                             tf.keras.layers.Dropout(0.2),\n",
        "                             tf.keras.layers.Conv1D(64,5,activation = 'relu'),\n",
        "                             tf.keras.layers.MaxPooling1D(pool_size=4),\n",
        "                             tf.keras.layers.LSTM(64),\n",
        "                             tf.keras.layers.Dense(1,activation = 'sigmoid')\n",
        "])\n"
      ],
      "execution_count": null,
      "outputs": []
    },
    {
      "cell_type": "code",
      "metadata": {
        "id": "1LVXPtAwV7U2",
        "outputId": "05b368ef-2a50-4223-9fdf-7751d11ca35f",
        "colab": {
          "base_uri": "https://localhost:8080/",
          "height": 369
        }
      },
      "source": [
        "model.summary()"
      ],
      "execution_count": null,
      "outputs": [
        {
          "output_type": "stream",
          "text": [
            "Model: \"sequential\"\n",
            "_________________________________________________________________\n",
            "Layer (type)                 Output Shape              Param #   \n",
            "=================================================================\n",
            "embedding (Embedding)        (None, 16, 100)           13849200  \n",
            "_________________________________________________________________\n",
            "dropout (Dropout)            (None, 16, 100)           0         \n",
            "_________________________________________________________________\n",
            "conv1d (Conv1D)              (None, 12, 64)            32064     \n",
            "_________________________________________________________________\n",
            "max_pooling1d (MaxPooling1D) (None, 3, 64)             0         \n",
            "_________________________________________________________________\n",
            "lstm (LSTM)                  (None, 64)                33024     \n",
            "_________________________________________________________________\n",
            "dense (Dense)                (None, 1)                 65        \n",
            "=================================================================\n",
            "Total params: 13,914,353\n",
            "Trainable params: 65,153\n",
            "Non-trainable params: 13,849,200\n",
            "_________________________________________________________________\n"
          ],
          "name": "stdout"
        }
      ]
    },
    {
      "cell_type": "code",
      "metadata": {
        "id": "tsx7GJ47W7F-"
      },
      "source": [
        "model.compile(loss= 'binary_crossentropy',optimizer= 'adam',metrics = ['accuracy'])"
      ],
      "execution_count": null,
      "outputs": []
    },
    {
      "cell_type": "code",
      "metadata": {
        "id": "Qks8UXNdXFrt"
      },
      "source": [
        "training_pad = np.array(training_pad)\n",
        "testing_pad= np.array(testing_pad)\n",
        "train_labels = np.array(train_labels)\n",
        "test_labels=np.array(test_labels)"
      ],
      "execution_count": null,
      "outputs": []
    },
    {
      "cell_type": "code",
      "metadata": {
        "id": "lUQ0zd7CXdFz",
        "outputId": "67623966-3f14-491c-a5e7-7e3481989f92",
        "colab": {
          "base_uri": "https://localhost:8080/",
          "height": 1000
        }
      },
      "source": [
        "history=model.fit(training_pad,train_labels,epochs = 50,validation_data=(testing_pad,test_labels))"
      ],
      "execution_count": null,
      "outputs": [
        {
          "output_type": "stream",
          "text": [
            "Epoch 1/50\n",
            "4500/4500 [==============================] - 35s 8ms/step - loss: 0.5690 - accuracy: 0.6981 - val_loss: 0.5249 - val_accuracy: 0.7336\n",
            "Epoch 2/50\n",
            "4500/4500 [==============================] - 34s 8ms/step - loss: 0.5282 - accuracy: 0.7320 - val_loss: 0.5100 - val_accuracy: 0.7444\n",
            "Epoch 3/50\n",
            "4500/4500 [==============================] - 34s 7ms/step - loss: 0.5120 - accuracy: 0.7431 - val_loss: 0.5066 - val_accuracy: 0.7484\n",
            "Epoch 4/50\n",
            "4500/4500 [==============================] - 33s 7ms/step - loss: 0.5002 - accuracy: 0.7502 - val_loss: 0.5050 - val_accuracy: 0.7529\n",
            "Epoch 5/50\n",
            "4500/4500 [==============================] - 33s 7ms/step - loss: 0.4918 - accuracy: 0.7569 - val_loss: 0.5022 - val_accuracy: 0.7536\n",
            "Epoch 6/50\n",
            "4500/4500 [==============================] - 33s 7ms/step - loss: 0.4844 - accuracy: 0.7626 - val_loss: 0.5031 - val_accuracy: 0.7572\n",
            "Epoch 7/50\n",
            "4500/4500 [==============================] - 33s 7ms/step - loss: 0.4804 - accuracy: 0.7651 - val_loss: 0.5028 - val_accuracy: 0.7530\n",
            "Epoch 8/50\n",
            "4500/4500 [==============================] - 38s 8ms/step - loss: 0.4746 - accuracy: 0.7690 - val_loss: 0.5049 - val_accuracy: 0.7543\n",
            "Epoch 9/50\n",
            "4500/4500 [==============================] - 33s 7ms/step - loss: 0.4718 - accuracy: 0.7694 - val_loss: 0.5029 - val_accuracy: 0.7552\n",
            "Epoch 10/50\n",
            "4500/4500 [==============================] - 33s 7ms/step - loss: 0.4661 - accuracy: 0.7726 - val_loss: 0.5016 - val_accuracy: 0.7534\n",
            "Epoch 11/50\n",
            "4500/4500 [==============================] - 33s 7ms/step - loss: 0.4626 - accuracy: 0.7760 - val_loss: 0.5017 - val_accuracy: 0.7565\n",
            "Epoch 12/50\n",
            "4500/4500 [==============================] - 32s 7ms/step - loss: 0.4597 - accuracy: 0.7773 - val_loss: 0.5047 - val_accuracy: 0.7548\n",
            "Epoch 13/50\n",
            "4500/4500 [==============================] - 33s 7ms/step - loss: 0.4568 - accuracy: 0.7790 - val_loss: 0.5119 - val_accuracy: 0.7502\n",
            "Epoch 14/50\n",
            "4500/4500 [==============================] - 32s 7ms/step - loss: 0.4534 - accuracy: 0.7814 - val_loss: 0.5059 - val_accuracy: 0.7512\n",
            "Epoch 15/50\n",
            "4500/4500 [==============================] - 33s 7ms/step - loss: 0.4512 - accuracy: 0.7825 - val_loss: 0.5096 - val_accuracy: 0.7547\n",
            "Epoch 16/50\n",
            "4500/4500 [==============================] - 33s 7ms/step - loss: 0.4489 - accuracy: 0.7849 - val_loss: 0.5071 - val_accuracy: 0.7523\n",
            "Epoch 17/50\n",
            "4500/4500 [==============================] - 33s 7ms/step - loss: 0.4482 - accuracy: 0.7853 - val_loss: 0.5137 - val_accuracy: 0.7519\n",
            "Epoch 18/50\n",
            "4500/4500 [==============================] - 35s 8ms/step - loss: 0.4473 - accuracy: 0.7840 - val_loss: 0.5057 - val_accuracy: 0.7541\n",
            "Epoch 19/50\n",
            "4500/4500 [==============================] - 33s 7ms/step - loss: 0.4461 - accuracy: 0.7866 - val_loss: 0.5048 - val_accuracy: 0.7529\n",
            "Epoch 20/50\n",
            "4500/4500 [==============================] - 33s 7ms/step - loss: 0.4444 - accuracy: 0.7860 - val_loss: 0.5135 - val_accuracy: 0.7476\n",
            "Epoch 21/50\n",
            "4500/4500 [==============================] - 33s 7ms/step - loss: 0.4433 - accuracy: 0.7877 - val_loss: 0.5116 - val_accuracy: 0.7484\n",
            "Epoch 22/50\n",
            "4500/4500 [==============================] - 32s 7ms/step - loss: 0.4417 - accuracy: 0.7889 - val_loss: 0.5125 - val_accuracy: 0.7562\n",
            "Epoch 23/50\n",
            "4500/4500 [==============================] - 32s 7ms/step - loss: 0.4403 - accuracy: 0.7895 - val_loss: 0.5092 - val_accuracy: 0.7510\n",
            "Epoch 24/50\n",
            "4500/4500 [==============================] - 32s 7ms/step - loss: 0.4384 - accuracy: 0.7903 - val_loss: 0.5136 - val_accuracy: 0.7504\n",
            "Epoch 25/50\n",
            "4500/4500 [==============================] - 32s 7ms/step - loss: 0.4391 - accuracy: 0.7895 - val_loss: 0.5149 - val_accuracy: 0.7517\n",
            "Epoch 26/50\n",
            "4500/4500 [==============================] - 36s 8ms/step - loss: 0.4378 - accuracy: 0.7904 - val_loss: 0.5161 - val_accuracy: 0.7529\n",
            "Epoch 27/50\n",
            "4500/4500 [==============================] - 33s 7ms/step - loss: 0.4367 - accuracy: 0.7915 - val_loss: 0.5143 - val_accuracy: 0.7481\n",
            "Epoch 28/50\n",
            "4500/4500 [==============================] - 36s 8ms/step - loss: 0.4365 - accuracy: 0.7911 - val_loss: 0.5159 - val_accuracy: 0.7548\n",
            "Epoch 29/50\n",
            "4500/4500 [==============================] - 33s 7ms/step - loss: 0.4344 - accuracy: 0.7926 - val_loss: 0.5157 - val_accuracy: 0.7511\n",
            "Epoch 30/50\n",
            "4500/4500 [==============================] - 32s 7ms/step - loss: 0.4336 - accuracy: 0.7934 - val_loss: 0.5196 - val_accuracy: 0.7531\n",
            "Epoch 31/50\n",
            "4500/4500 [==============================] - 32s 7ms/step - loss: 0.4340 - accuracy: 0.7927 - val_loss: 0.5180 - val_accuracy: 0.7491\n",
            "Epoch 32/50\n",
            "4500/4500 [==============================] - 33s 7ms/step - loss: 0.4333 - accuracy: 0.7939 - val_loss: 0.5225 - val_accuracy: 0.7507\n",
            "Epoch 33/50\n",
            "4500/4500 [==============================] - 33s 7ms/step - loss: 0.4332 - accuracy: 0.7940 - val_loss: 0.5191 - val_accuracy: 0.7531\n",
            "Epoch 34/50\n",
            "4500/4500 [==============================] - 33s 7ms/step - loss: 0.4326 - accuracy: 0.7938 - val_loss: 0.5210 - val_accuracy: 0.7511\n",
            "Epoch 35/50\n",
            "4500/4500 [==============================] - 33s 7ms/step - loss: 0.4327 - accuracy: 0.7946 - val_loss: 0.5145 - val_accuracy: 0.7498\n",
            "Epoch 36/50\n",
            "4500/4500 [==============================] - 33s 7ms/step - loss: 0.4326 - accuracy: 0.7942 - val_loss: 0.5203 - val_accuracy: 0.7510\n",
            "Epoch 37/50\n",
            "4500/4500 [==============================] - 35s 8ms/step - loss: 0.4316 - accuracy: 0.7940 - val_loss: 0.5220 - val_accuracy: 0.7485\n",
            "Epoch 38/50\n",
            "4500/4500 [==============================] - 33s 7ms/step - loss: 0.4315 - accuracy: 0.7942 - val_loss: 0.5218 - val_accuracy: 0.7492\n",
            "Epoch 39/50\n",
            "4500/4500 [==============================] - 32s 7ms/step - loss: 0.4305 - accuracy: 0.7948 - val_loss: 0.5238 - val_accuracy: 0.7473\n",
            "Epoch 40/50\n",
            "4500/4500 [==============================] - 32s 7ms/step - loss: 0.4292 - accuracy: 0.7972 - val_loss: 0.5210 - val_accuracy: 0.7439\n",
            "Epoch 41/50\n",
            "4500/4500 [==============================] - 32s 7ms/step - loss: 0.4292 - accuracy: 0.7959 - val_loss: 0.5225 - val_accuracy: 0.7495\n",
            "Epoch 42/50\n",
            "4500/4500 [==============================] - 33s 7ms/step - loss: 0.4284 - accuracy: 0.7971 - val_loss: 0.5253 - val_accuracy: 0.7451\n",
            "Epoch 43/50\n",
            "4500/4500 [==============================] - 34s 7ms/step - loss: 0.4292 - accuracy: 0.7952 - val_loss: 0.5272 - val_accuracy: 0.7437\n",
            "Epoch 44/50\n",
            "4500/4500 [==============================] - 33s 7ms/step - loss: 0.4294 - accuracy: 0.7962 - val_loss: 0.5229 - val_accuracy: 0.7424\n",
            "Epoch 45/50\n",
            "4500/4500 [==============================] - 36s 8ms/step - loss: 0.4278 - accuracy: 0.7956 - val_loss: 0.5236 - val_accuracy: 0.7432\n",
            "Epoch 46/50\n",
            "4500/4500 [==============================] - 34s 7ms/step - loss: 0.4290 - accuracy: 0.7961 - val_loss: 0.5235 - val_accuracy: 0.7501\n",
            "Epoch 47/50\n",
            "4500/4500 [==============================] - 35s 8ms/step - loss: 0.4277 - accuracy: 0.7970 - val_loss: 0.5251 - val_accuracy: 0.7499\n",
            "Epoch 48/50\n",
            "4500/4500 [==============================] - 33s 7ms/step - loss: 0.4278 - accuracy: 0.7966 - val_loss: 0.5254 - val_accuracy: 0.7454\n",
            "Epoch 49/50\n",
            "4500/4500 [==============================] - 33s 7ms/step - loss: 0.4283 - accuracy: 0.7963 - val_loss: 0.5262 - val_accuracy: 0.7430\n",
            "Epoch 50/50\n",
            "4500/4500 [==============================] - 32s 7ms/step - loss: 0.4273 - accuracy: 0.7966 - val_loss: 0.5256 - val_accuracy: 0.7459\n"
          ],
          "name": "stdout"
        },
        {
          "output_type": "execute_result",
          "data": {
            "text/plain": [
              "<tensorflow.python.keras.callbacks.History at 0x7fbbe4ea1898>"
            ]
          },
          "metadata": {
            "tags": []
          },
          "execution_count": 30
        }
      ]
    },
    {
      "cell_type": "code",
      "metadata": {
        "id": "YsqcVZjCXycm",
        "outputId": "92034c2c-b37c-40b0-f285-303273a468e4",
        "colab": {
          "base_uri": "https://localhost:8080/",
          "height": 238
        }
      },
      "source": [
        "import matplotlib.image as mpimg\n",
        "import matplotlib.pyplot as plt \n",
        "acc= history.history['accuracy']\n",
        "val_acc = history.history['val_accuracy']\n",
        "loss =history.history['loss']\n",
        "val_loss= history.history['val_loss']\n",
        "epoch = range(len(acc))\n",
        "plt.plot(epoch,acc,'r')\n",
        "plt.plot(epoch,val_acc,'b')\n",
        "plt.title('accuracy and validation accuracy')\n",
        "plt.xlabel('epochs')\n",
        "plt.ylabel('accuracy')\n",
        "plt.legend(['accuracy','validation accuracy'])\n",
        "plt.figure()\n",
        "plt.plot(epoch,loss,'r')\n",
        "plt.plot(epoch,val_loss,'b')\n",
        "plt.title('loss and validation loss')\n",
        "plt.xlabel('epochs')\n",
        "plt.ylabel('loss')\n",
        "plt.legend(['loss','validation_loss'])\n",
        "plt.figure()\n"
      ],
      "execution_count": null,
      "outputs": [
        {
          "output_type": "error",
          "ename": "NameError",
          "evalue": "ignored",
          "traceback": [
            "\u001b[0;31m---------------------------------------------------------------------------\u001b[0m",
            "\u001b[0;31mNameError\u001b[0m                                 Traceback (most recent call last)",
            "\u001b[0;32m<ipython-input-31-f80008f50a4d>\u001b[0m in \u001b[0;36m<module>\u001b[0;34m()\u001b[0m\n\u001b[1;32m      1\u001b[0m \u001b[0;32mimport\u001b[0m \u001b[0mmatplotlib\u001b[0m\u001b[0;34m.\u001b[0m\u001b[0mimage\u001b[0m \u001b[0;32mas\u001b[0m \u001b[0mmpimg\u001b[0m\u001b[0;34m\u001b[0m\u001b[0;34m\u001b[0m\u001b[0m\n\u001b[1;32m      2\u001b[0m \u001b[0;32mimport\u001b[0m \u001b[0mmatplotlib\u001b[0m\u001b[0;34m.\u001b[0m\u001b[0mpyplot\u001b[0m \u001b[0;32mas\u001b[0m \u001b[0mplt\u001b[0m\u001b[0;34m\u001b[0m\u001b[0;34m\u001b[0m\u001b[0m\n\u001b[0;32m----> 3\u001b[0;31m \u001b[0macc\u001b[0m\u001b[0;34m=\u001b[0m \u001b[0mhistory\u001b[0m\u001b[0;34m.\u001b[0m\u001b[0mhistory\u001b[0m\u001b[0;34m[\u001b[0m\u001b[0;34m'accuracy'\u001b[0m\u001b[0;34m]\u001b[0m\u001b[0;34m\u001b[0m\u001b[0;34m\u001b[0m\u001b[0m\n\u001b[0m\u001b[1;32m      4\u001b[0m \u001b[0mval_acc\u001b[0m \u001b[0;34m=\u001b[0m \u001b[0mhistory\u001b[0m\u001b[0;34m.\u001b[0m\u001b[0mhistory\u001b[0m\u001b[0;34m[\u001b[0m\u001b[0;34m'val_accuracy'\u001b[0m\u001b[0;34m]\u001b[0m\u001b[0;34m\u001b[0m\u001b[0;34m\u001b[0m\u001b[0m\n\u001b[1;32m      5\u001b[0m \u001b[0mloss\u001b[0m \u001b[0;34m=\u001b[0m\u001b[0mhistory\u001b[0m\u001b[0;34m.\u001b[0m\u001b[0mhistory\u001b[0m\u001b[0;34m[\u001b[0m\u001b[0;34m'loss'\u001b[0m\u001b[0;34m]\u001b[0m\u001b[0;34m\u001b[0m\u001b[0;34m\u001b[0m\u001b[0m\n",
            "\u001b[0;31mNameError\u001b[0m: name 'history' is not defined"
          ]
        }
      ]
    },
    {
      "cell_type": "code",
      "metadata": {
        "id": "4N_Mqz8PeL1_"
      },
      "source": [
        ""
      ],
      "execution_count": null,
      "outputs": []
    }
  ]
}